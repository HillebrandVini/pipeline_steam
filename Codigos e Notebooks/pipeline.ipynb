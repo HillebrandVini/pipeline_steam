{
  "nbformat": 4,
  "nbformat_minor": 0,
  "metadata": {
    "colab": {
      "provenance": []
    },
    "kernelspec": {
      "name": "python3",
      "display_name": "Python 3"
    },
    "language_info": {
      "name": "python"
    }
  },
  "cells": [
    {
      "cell_type": "markdown",
      "source": [
        "# Merge de dois datasets"
      ],
      "metadata": {
        "id": "006_wEC0OcF2"
      }
    },
    {
      "cell_type": "markdown",
      "source": [
        "Um dataset foi construído em formato csv, apartir do uso da API do site steamspy >>> https://steamspy.com/api.php\n",
        "\n",
        "\n",
        "Já para o outro dataset, foi adquirido do github em formato json >>> https://github.com/leinstay/steamdb/blob/main/steamdb.json\n",
        "\n",
        "\n",
        "para enriquecer os dados, obteve-se algumas colunas como: data de lançamento, tags, gênero e categorias."
      ],
      "metadata": {
        "id": "RLRW-v6VPO02"
      }
    },
    {
      "cell_type": "markdown",
      "source": [
        "\n",
        "\n",
        "---\n",
        "\n"
      ],
      "metadata": {
        "id": "_SC8-DvhQcFV"
      }
    },
    {
      "cell_type": "markdown",
      "source": [
        "# Importação das Bibliotecas"
      ],
      "metadata": {
        "id": "yyZT3cEMQYW2"
      }
    },
    {
      "cell_type": "code",
      "source": [
        "import pandas as pd\n",
        "import numpy as np"
      ],
      "metadata": {
        "id": "bBwRwi8LOm1G"
      },
      "execution_count": null,
      "outputs": []
    },
    {
      "cell_type": "markdown",
      "source": [
        "# Leitura dos arquivos"
      ],
      "metadata": {
        "id": "wquv2cctQiI2"
      }
    },
    {
      "cell_type": "code",
      "source": [
        "df = pd.read_csv('steamspy_50k_jogos.csv')\n",
        "df2 = pd.read_json('steamdb.json')"
      ],
      "metadata": {
        "id": "hOzrhhw6Qfkm"
      },
      "execution_count": null,
      "outputs": []
    },
    {
      "cell_type": "markdown",
      "source": [
        "# Padronização dos ID's"
      ],
      "metadata": {
        "id": "KXl47rrgQmUG"
      }
    },
    {
      "cell_type": "code",
      "source": [
        "df2['appid'] = df2['sid']"
      ],
      "metadata": {
        "id": "mXPlxoTiQfWG"
      },
      "execution_count": null,
      "outputs": []
    },
    {
      "cell_type": "markdown",
      "source": [
        "# Lista de colunas a serem excluídas"
      ],
      "metadata": {
        "id": "CEsTil9bQuYm"
      }
    },
    {
      "cell_type": "code",
      "source": [
        "colunas = [\n",
        "    \"sid\",\n",
        "    \"store_url\",\n",
        "    \"store_promo_url\",\n",
        "    \"store_uscore\",\n",
        "    \"published_meta\",\n",
        "    \"published_stsp\",\n",
        "    \"published_hltb\",\n",
        "    \"published_igdb\",\n",
        "    \"image\",\n",
        "    \"name\",\n",
        "    \"description\",\n",
        "    \"full_price\",\n",
        "    \"current_price\",\n",
        "    \"discount\",\n",
        "    \"platforms\",\n",
        "    \"developers\",\n",
        "    \"publishers\",\n",
        "    \"languages\",\n",
        "    \"voiceovers\",\n",
        "    \"achievements\",\n",
        "    \"gfq_url\",\n",
        "    \"gfq_difficulty\",\n",
        "    \"gfq_difficulty_comment\",\n",
        "    \"gfq_rating\",\n",
        "    \"gfq_rating_comment\",\n",
        "    \"gfq_length\",\n",
        "    \"gfq_length_comment\",\n",
        "    \"stsp_owners\",\n",
        "    \"stsp_mdntime\",\n",
        "    \"hltb_url\",\n",
        "    \"hltb_single\",\n",
        "    \"hltb_complete\",\n",
        "    \"meta_url\",\n",
        "    \"meta_score\",\n",
        "    \"meta_uscore\",\n",
        "    \"grnk_score\",\n",
        "    \"igdb_url\",\n",
        "    \"igdb_single\",\n",
        "    \"igdb_complete\",\n",
        "    \"igdb_score\",\n",
        "    \"igdb_uscore\",\n",
        "    \"igdb_popularity\"\n",
        "]"
      ],
      "metadata": {
        "id": "851HqZSwQrjt"
      },
      "execution_count": null,
      "outputs": []
    },
    {
      "cell_type": "markdown",
      "source": [
        "# Exclusão das colunas"
      ],
      "metadata": {
        "id": "wOMeMyteQ0ym"
      }
    },
    {
      "cell_type": "code",
      "source": [
        "df2 = df2.drop(colunas, axis=1)"
      ],
      "metadata": {
        "id": "xhg64zDjQrbe"
      },
      "execution_count": null,
      "outputs": []
    },
    {
      "cell_type": "markdown",
      "source": [
        "# Merge"
      ],
      "metadata": {
        "id": "wYiKO60cQ5W-"
      }
    },
    {
      "cell_type": "code",
      "source": [
        "df = pd.merge(df, df2, on='appid', how='inner')"
      ],
      "metadata": {
        "id": "jCUHktWaQ38m"
      },
      "execution_count": null,
      "outputs": []
    },
    {
      "cell_type": "markdown",
      "source": [
        "# Salvando"
      ],
      "metadata": {
        "id": "R6VlqlTnQ9hO"
      }
    },
    {
      "cell_type": "code",
      "source": [
        "df.to_csv(\"Teste.csv\")"
      ],
      "metadata": {
        "id": "cgWpylgmQ792"
      },
      "execution_count": null,
      "outputs": []
    },
    {
      "cell_type": "markdown",
      "source": [
        "\n",
        "\n",
        "---\n",
        "\n"
      ],
      "metadata": {
        "id": "2kf9vtN4QeAX"
      }
    },
    {
      "cell_type": "markdown",
      "source": [
        "# Código de limpeza e construção inicial"
      ],
      "metadata": {
        "id": "-a3b0X8TRXUG"
      }
    },
    {
      "cell_type": "markdown",
      "source": [
        "# ⬇⬇⬇⬇⬇⬇⬇⬇⬇⬇⬇⬇⬇⬇⬇⬇⬇⬇⬇⬇⬇⬇⬇⬇⬇⬇⬇⬇⬇⬇⬇⬇"
      ],
      "metadata": {
        "id": "qZ1-v4x5RcCu"
      }
    },
    {
      "cell_type": "markdown",
      "source": [
        "# Importando as bibliotecas"
      ],
      "metadata": {
        "id": "d5vld7yvMV0n"
      }
    },
    {
      "cell_type": "code",
      "execution_count": null,
      "metadata": {
        "id": "uoDmedqfK4K6"
      },
      "outputs": [],
      "source": [
        "from matplotlib import pyplot as plt\n",
        "import pandas as pd\n",
        "import numpy as np\n",
        "import seaborn as sn"
      ]
    },
    {
      "cell_type": "markdown",
      "source": [
        "# Lendo CSV"
      ],
      "metadata": {
        "id": "riU_MN-qMce2"
      }
    },
    {
      "cell_type": "code",
      "source": [
        "df = pd.read_csv('Teste.csv')"
      ],
      "metadata": {
        "id": "weI3xiVYK_yG"
      },
      "execution_count": null,
      "outputs": []
    },
    {
      "cell_type": "markdown",
      "source": [
        "# Excluindo colunas desnecessárias"
      ],
      "metadata": {
        "id": "RqQ1FQomMgo-"
      }
    },
    {
      "cell_type": "code",
      "source": [
        "df = df.drop('score_rank', axis=1)\n",
        "df = df.drop('Unnamed: 0', axis=1)"
      ],
      "metadata": {
        "id": "IYg_Lxv6LDYN"
      },
      "execution_count": null,
      "outputs": []
    },
    {
      "cell_type": "markdown",
      "source": [
        "# Excluindo Duplicatas"
      ],
      "metadata": {
        "id": "RbkJjCaVM632"
      }
    },
    {
      "cell_type": "code",
      "source": [
        "df.drop_duplicates(inplace=True)"
      ],
      "metadata": {
        "id": "IRjKoEWkLGHG"
      },
      "execution_count": null,
      "outputs": []
    },
    {
      "cell_type": "markdown",
      "source": [
        "# Tratando coluna, de categórica para média"
      ],
      "metadata": {
        "id": "enEhblnoM_LG"
      }
    },
    {
      "cell_type": "code",
      "source": [
        "def converter_owners(intervalo):\n",
        "    if isinstance(intervalo, str) and '..' in intervalo:\n",
        "        partes = intervalo.strip('\"').replace(',', '').split(' .. ')\n",
        "        min_val = int(partes[0])\n",
        "        max_val = int(partes[1])\n",
        "        return (min_val + max_val) / 2\n",
        "    return np.nan\n",
        "\n",
        "df['owners'] = df['owners'].apply(converter_owners)\n",
        "df['owners'] = df['owners'].fillna(df['owners'].mean())"
      ],
      "metadata": {
        "id": "AG2otEqWLIT-"
      },
      "execution_count": null,
      "outputs": []
    },
    {
      "cell_type": "markdown",
      "source": [
        "# Preenchendo valores nulos"
      ],
      "metadata": {
        "id": "Oa6LClErMp4_"
      }
    },
    {
      "cell_type": "code",
      "source": [
        "for col in ['name', 'developer', 'publisher']:\n",
        "    df[col] = df[col].fillna('NO DATA')\n",
        "df['price'].fillna(df['price'].mean())\n",
        "df['initialprice'].fillna(df['initialprice'].mean())\n",
        "df['discount'].fillna(df['discount'].mode()[0])"
      ],
      "metadata": {
        "id": "ZoYemtK4L-OP"
      },
      "execution_count": null,
      "outputs": []
    },
    {
      "cell_type": "markdown",
      "source": [
        "# Corrigindo preços de centavos de dólares para dólares"
      ],
      "metadata": {
        "id": "_CVf7qFONOh9"
      }
    },
    {
      "cell_type": "code",
      "source": [
        "df['price'] = df['price'] / 100\n",
        "df['initialprice'] = df['initialprice'] / 100"
      ],
      "metadata": {
        "id": "CHQwQyauMBce"
      },
      "execution_count": null,
      "outputs": []
    },
    {
      "cell_type": "markdown",
      "source": [
        "# Criação de novas colunas"
      ],
      "metadata": {
        "id": "Z4Mblw8rNU_u"
      }
    },
    {
      "cell_type": "code",
      "source": [
        "\n",
        "df[\"total_reviews\"] = df[\"positive\"] + df[\"negative\"]\n",
        "df[\"avg_playtime_hours\"] = df[\"average_forever\"] / 60\n",
        "df[\"recent_playtime_hours\"] = df[\"average_2weeks\"] / 60"
      ],
      "metadata": {
        "id": "zr2rAxtwMIXV"
      },
      "execution_count": null,
      "outputs": []
    },
    {
      "cell_type": "markdown",
      "source": [
        "# Arredondamento e conversão de tipo das novas colunas"
      ],
      "metadata": {
        "id": "tuGkS6hlNWIG"
      }
    },
    {
      "cell_type": "code",
      "source": [
        "\n",
        "df[\"total_reviews\"] = df[\"total_reviews\"].round(2)\n",
        "df[\"owners\"] = df[\"owners\"].astype(int)\n",
        "df[\"avg_playtime_hours\"] = df[\"avg_playtime_hours\"].round(2)\n",
        "df[\"recent_playtime_hours\"] = df[\"recent_playtime_hours\"].round(2)\n"
      ],
      "metadata": {
        "id": "qbWYIR_LMKGV"
      },
      "execution_count": null,
      "outputs": []
    },
    {
      "cell_type": "markdown",
      "source": [
        "# Histograma dos preços"
      ],
      "metadata": {
        "id": "bsmNqNNpNXa2"
      }
    },
    {
      "cell_type": "code",
      "source": [
        "\n",
        "ax = sn.histplot(data=df, x='price', kde=True)\n",
        "ax.figure.set_size_inches(8, 4)\n",
        "ax.set_title('Histograma do Valor dos Jogos', fontsize=16)\n",
        "ax.set_xlabel('Valor (US$)', fontsize=14)\n",
        "plt.show()"
      ],
      "metadata": {
        "id": "rcM2yeg_MM2f"
      },
      "execution_count": null,
      "outputs": []
    },
    {
      "cell_type": "markdown",
      "source": [
        "# Boxplot dos preços"
      ],
      "metadata": {
        "id": "qyv8pdFUNY6W"
      }
    },
    {
      "cell_type": "code",
      "source": [
        "ax = sn.boxplot(x='price', data=df, width=0.4)\n",
        "ax.figure.set_size_inches(8, 4)\n",
        "ax.set_title('Boxplot da Distribuição de Preço', fontsize=16)\n",
        "ax.set_xlabel('Preço (US$)', fontsize=14)\n",
        "plt.show()"
      ],
      "metadata": {
        "id": "Uy3wj8s1MPRu"
      },
      "execution_count": null,
      "outputs": []
    },
    {
      "cell_type": "markdown",
      "source": [
        "# Salvando em um novo csv"
      ],
      "metadata": {
        "id": "7pvl-bv0Nbi1"
      }
    },
    {
      "cell_type": "code",
      "source": [
        "df.to_csv('games_dataset.csv', index=False)"
      ],
      "metadata": {
        "id": "hiRrJGPbMRnO"
      },
      "execution_count": null,
      "outputs": []
    }
  ]
}