{
 "cells": [
  {
   "cell_type": "code",
   "execution_count": 73,
   "id": "61e86c97",
   "metadata": {},
   "outputs": [
    {
     "name": "stdout",
     "output_type": "stream",
     "text": [
      "Completude: 96.88%\n",
      "Unicidade: 100.00%\n"
     ]
    }
   ],
   "source": [
    "import pandas as pd\n",
    "import numpy as np\n",
    "\n",
    "df = pd.read_csv('../Data/Silver/games_dataset.csv')\n",
    "\n",
    "df['published_store'] = df['published_store'].fillna('Unknown')\n",
    "df['categories'] = df['categories'].fillna('Unknown')\n",
    "\n",
    "df['published_store'] = pd.to_datetime(df['published_store'], format='%Y-%m-%d', errors='coerce')\n",
    "df['categories'] = df['categories'].astype('category')\n",
    "df['developer'] = df['developer'].astype('category')\n",
    "df['publisher'] = df['publisher'].astype('category')\n",
    "df['name'] = df['name'].astype(str)\n",
    "\n",
    "df['1categoria'] = df['categories'].str.split(',').str[0]\n",
    "df['2categoria'] = df['categories'].str.split(',').str[1]\n",
    "\n",
    "df['1categoria'] = df['1categoria'].astype('category')\n",
    "df['2categoria'] = df['2categoria'].astype('category')\n",
    "\n",
    "df = df.drop(columns=['categories'])\n",
    "\n",
    "total_celulas = df.shape[0] * df.shape[1]\n",
    "celulas_preenchidas = df.count().sum()\n",
    "completude = (celulas_preenchidas / total_celulas) * 100\n",
    "print(f\"Completude: {completude:.2f}%\")\n",
    "\n",
    "duplicatas = df.duplicated().sum()\n",
    "unicidade = ((len(df) - duplicatas) / len(df)) * 100\n",
    "print(f\"Unicidade: {unicidade:.2f}%\")\n",
    "\n",
    "\n",
    "df.to_csv('../Data/Gold/games_dataset_cleaned.csv', index=False)\n"
   ]
  }
 ],
 "metadata": {
  "kernelspec": {
   "display_name": "Python 3",
   "language": "python",
   "name": "python3"
  },
  "language_info": {
   "codemirror_mode": {
    "name": "ipython",
    "version": 3
   },
   "file_extension": ".py",
   "mimetype": "text/x-python",
   "name": "python",
   "nbconvert_exporter": "python",
   "pygments_lexer": "ipython3",
   "version": "3.11.9"
  }
 },
 "nbformat": 4,
 "nbformat_minor": 5
}
